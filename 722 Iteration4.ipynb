{
 "cells": [
  {
   "cell_type": "code",
   "execution_count": 1,
   "metadata": {},
   "outputs": [],
   "source": [
    "import findspark\n",
    "findspark.init('/home/ubuntu/spark-2.1.1-bin-hadoop2.7')\n",
    "import pyspark\n",
    "from pyspark.sql import SparkSession\n",
    "spark = SparkSession.builder.appName('iteration4').getOrCreate()"
   ]
  },
  {
   "cell_type": "code",
   "execution_count": 2,
   "metadata": {},
   "outputs": [],
   "source": [
    "from pyspark.sql.types import (StructField,StringType,IntegerType,FloatType,StructType,DateType,TimestampType)\n",
    "from pyspark.sql.functions import isnan, when, count, col\n",
    "from pyspark.sql.functions import mean\n",
    "from pyspark import SparkContext\n",
    "from pyspark.sql import SQLContext\n",
    "from pyspark.sql import functions as F\n",
    "from pyspark.sql.window import Window"
   ]
  },
  {
   "cell_type": "code",
   "execution_count": 3,
   "metadata": {},
   "outputs": [],
   "source": [
    "df = spark.read.csv(\"./Measurement_summary.csv\",inferSchema=True,header=\"true\" )"
   ]
  },
  {
   "cell_type": "code",
   "execution_count": 4,
   "metadata": {},
   "outputs": [
    {
     "name": "stdout",
     "output_type": "stream",
     "text": [
      "+----------------+------------+--------------------+----------+-----------+-----+-----+-----+---+----+----+\n",
      "|Measurement_date|Station_code|             Address|  Latitude|  Longitude|  SO2|  NO2|   O3| CO|PM10|PM25|\n",
      "+----------------+------------+--------------------+----------+-----------+-----+-----+-----+---+----+----+\n",
      "|   2017/1/1 0:00|         101|19, Jong-ro 35ga-...|37.5720164|127.0050075|0.004|0.059|0.002|1.2|  73|  57|\n",
      "|   2017/1/1 1:00|         101|19, Jong-ro 35ga-...|37.5720164|127.0050075|0.004|0.058|0.002|1.2|  71|  59|\n",
      "|   2017/1/1 2:00|         101|19, Jong-ro 35ga-...|37.5720164|127.0050075|0.004|0.056|0.002|1.2|  70|  59|\n",
      "|   2017/1/1 3:00|         101|19, Jong-ro 35ga-...|37.5720164|127.0050075|0.004|0.056|0.002|1.2|  70|  58|\n",
      "|   2017/1/1 4:00|         101|19, Jong-ro 35ga-...|37.5720164|127.0050075|0.003|0.051|0.002|1.2|  69|  61|\n",
      "|   2017/1/1 5:00|         101|19, Jong-ro 35ga-...|37.5720164|127.0050075|0.003|0.046|0.002|1.1|  70|  61|\n",
      "|   2017/1/1 6:00|         101|19, Jong-ro 35ga-...|37.5720164|127.0050075|0.003|0.049|0.002|1.1|  66|  57|\n",
      "|   2017/1/1 7:00|         101|19, Jong-ro 35ga-...|37.5720164|127.0050075|0.003|0.045|0.002|1.0|  71|  60|\n",
      "|   2017/1/1 8:00|         101|19, Jong-ro 35ga-...|37.5720164|127.0050075|0.004|0.047|0.002|1.1|  72|  60|\n",
      "|   2017/1/1 9:00|         101|19, Jong-ro 35ga-...|37.5720164|127.0050075|0.003|0.047|0.002|1.1|  74|  63|\n",
      "|  2017/1/1 10:00|         101|19, Jong-ro 35ga-...|37.5720164|127.0050075|0.004|0.045|0.004|1.0|  76|  68|\n",
      "|  2017/1/1 11:00|         101|19, Jong-ro 35ga-...|37.5720164|127.0050075|0.004|0.048|0.005|1.0|  83|  74|\n",
      "|  2017/1/1 12:00|         101|19, Jong-ro 35ga-...|37.5720164|127.0050075|0.004|0.054|0.005|1.0|  93|  79|\n",
      "|  2017/1/1 13:00|         101|19, Jong-ro 35ga-...|37.5720164|127.0050075|0.005| 0.05|0.007|1.0|  94|  79|\n",
      "|  2017/1/1 14:00|         101|19, Jong-ro 35ga-...|37.5720164|127.0050075|0.006|0.055|0.008|0.9|  93|  78|\n",
      "|  2017/1/1 15:00|         101|19, Jong-ro 35ga-...|37.5720164|127.0050075|0.006|0.056|0.008|0.8|  87|  69|\n",
      "|  2017/1/1 16:00|         101|19, Jong-ro 35ga-...|37.5720164|127.0050075|0.006|0.063|0.004|0.9|  87|  69|\n",
      "|  2017/1/1 17:00|         101|19, Jong-ro 35ga-...|37.5720164|127.0050075|0.005|0.063|0.002|0.9|  91|  72|\n",
      "|  2017/1/1 18:00|         101|19, Jong-ro 35ga-...|37.5720164|127.0050075|0.005|0.063|0.002|1.0|  91|  69|\n",
      "|  2017/1/1 19:00|         101|19, Jong-ro 35ga-...|37.5720164|127.0050075|0.005|0.062|0.002|1.0|  92|  70|\n",
      "+----------------+------------+--------------------+----------+-----------+-----+-----+-----+---+----+----+\n",
      "only showing top 20 rows\n",
      "\n"
     ]
    }
   ],
   "source": [
    "df.show()"
   ]
  },
  {
   "cell_type": "code",
   "execution_count": 5,
   "metadata": {
    "scrolled": true
   },
   "outputs": [
    {
     "data": {
      "text/plain": [
       "['Measurement_date',\n",
       " 'Station_code',\n",
       " 'Address',\n",
       " 'Latitude',\n",
       " 'Longitude',\n",
       " 'SO2',\n",
       " 'NO2',\n",
       " 'O3',\n",
       " 'CO',\n",
       " 'PM10',\n",
       " 'PM25']"
      ]
     },
     "execution_count": 5,
     "metadata": {},
     "output_type": "execute_result"
    }
   ],
   "source": [
    "df.columns"
   ]
  },
  {
   "cell_type": "code",
   "execution_count": 6,
   "metadata": {},
   "outputs": [
    {
     "data": {
      "text/plain": [
       "[Row(Measurement_date='2017/1/1 0:00', Station_code=101, Address='19, Jong-ro 35ga-gil, Jongno-gu, Seoul, Republic of Korea', Latitude=37.5720164, Longitude=127.0050075, SO2=0.004, NO2=0.059, O3=0.002, CO=1.2, PM10=73, PM25=57),\n",
       " Row(Measurement_date='2017/1/1 1:00', Station_code=101, Address='19, Jong-ro 35ga-gil, Jongno-gu, Seoul, Republic of Korea', Latitude=37.5720164, Longitude=127.0050075, SO2=0.004, NO2=0.058, O3=0.002, CO=1.2, PM10=71, PM25=59)]"
      ]
     },
     "execution_count": 6,
     "metadata": {},
     "output_type": "execute_result"
    }
   ],
   "source": [
    "df.head(2)"
   ]
  },
  {
   "cell_type": "code",
   "execution_count": 7,
   "metadata": {},
   "outputs": [
    {
     "data": {
      "text/plain": [
       "647511"
      ]
     },
     "execution_count": 7,
     "metadata": {},
     "output_type": "execute_result"
    }
   ],
   "source": [
    "df.count()"
   ]
  },
  {
   "cell_type": "code",
   "execution_count": 8,
   "metadata": {},
   "outputs": [
    {
     "name": "stdout",
     "output_type": "stream",
     "text": [
      "root\n",
      " |-- Measurement_date: string (nullable = true)\n",
      " |-- Station_code: integer (nullable = true)\n",
      " |-- Address: string (nullable = true)\n",
      " |-- Latitude: double (nullable = true)\n",
      " |-- Longitude: double (nullable = true)\n",
      " |-- SO2: double (nullable = true)\n",
      " |-- NO2: double (nullable = true)\n",
      " |-- O3: double (nullable = true)\n",
      " |-- CO: double (nullable = true)\n",
      " |-- PM10: integer (nullable = true)\n",
      " |-- PM25: integer (nullable = true)\n",
      "\n"
     ]
    }
   ],
   "source": [
    "df.printSchema()"
   ]
  },
  {
   "cell_type": "code",
   "execution_count": 9,
   "metadata": {
    "scrolled": true
   },
   "outputs": [
    {
     "name": "stdout",
     "output_type": "stream",
     "text": [
      "+-------+----------------+------------------+--------------------+-------------------+-------------------+--------------------+-------------------+--------------------+-------------------+-----------------+------------------+\n",
      "|summary|Measurement_date|      Station_code|             Address|           Latitude|          Longitude|                 SO2|                NO2|                  O3|                 CO|             PM10|              PM25|\n",
      "+-------+----------------+------------------+--------------------+-------------------+-------------------+--------------------+-------------------+--------------------+-------------------+-----------------+------------------+\n",
      "|  count|          647511|            647511|              647511|             647511|             647511|              647294|             647511|              647511|             647511|           647511|            647511|\n",
      "|   mean|            null|113.00022084566903|                null|  37.55348357387394| 126.98933965679183|-0.00146023599786...|0.02251850238839498|0.017978886845193828| 0.5091970638332822|43.70805129179273|25.411994545266413|\n",
      "| stddev|            null| 7.211315104814956|                null|0.05327291151079699|0.07879020813315388| 0.07669734093350773|0.11515296103696089| 0.09930815588029925|0.40531851589503587|71.13734192328626|43.924595217522885|\n",
      "|    min|   2017/1/1 0:00|               101|10, Poeun-ro 6-gi...|         37.4523569|        126.8351506|                -1.0|               -1.0|                -1.0|               -1.0|               -1|                -1|\n",
      "|    max|   2019/9/9 9:00|               125|71, Gangseo-ro 45...|         37.6587743|        127.1367917|               3.736|             38.445|                33.6|               71.7|             3586|              6256|\n",
      "+-------+----------------+------------------+--------------------+-------------------+-------------------+--------------------+-------------------+--------------------+-------------------+-----------------+------------------+\n",
      "\n"
     ]
    }
   ],
   "source": [
    "df.describe().show()"
   ]
  },
  {
   "cell_type": "code",
   "execution_count": 9,
   "metadata": {},
   "outputs": [],
   "source": [
    "plot1=df.groupBy(\"PM25\").count().orderBy(\"PM25\")"
   ]
  },
  {
   "cell_type": "code",
   "execution_count": 10,
   "metadata": {},
   "outputs": [
    {
     "data": {
      "text/plain": [
       "333"
      ]
     },
     "execution_count": 10,
     "metadata": {},
     "output_type": "execute_result"
    }
   ],
   "source": [
    "plot1.count()"
   ]
  },
  {
   "cell_type": "code",
   "execution_count": null,
   "metadata": {
    "scrolled": false
   },
   "outputs": [],
   "source": [
    "plot1.show(333)"
   ]
  },
  {
   "cell_type": "code",
   "execution_count": 32,
   "metadata": {},
   "outputs": [
    {
     "name": "stdout",
     "output_type": "stream",
     "text": [
      "+----------------+------------+-------+--------+---------+---+---+---+---+----+----+\n",
      "|Measurement_date|Station_code|Address|Latitude|Longitude|SO2|NO2| O3| CO|PM10|PM25|\n",
      "+----------------+------------+-------+--------+---------+---+---+---+---+----+----+\n",
      "|               0|           0|      0|       0|        0|217|  0|  0|  0|   0|   0|\n",
      "+----------------+------------+-------+--------+---------+---+---+---+---+----+----+\n",
      "\n"
     ]
    }
   ],
   "source": [
    "df.select([count(when(isnan(c)|col(c).isNull(), c)).alias(c) for c in df.columns]).show()"
   ]
  },
  {
   "cell_type": "code",
   "execution_count": 22,
   "metadata": {},
   "outputs": [],
   "source": [
    "quantiles = df.approxQuantile(\"PM25\", [0.25,0.998], 0.00)"
   ]
  },
  {
   "cell_type": "code",
   "execution_count": 23,
   "metadata": {},
   "outputs": [
    {
     "data": {
      "text/plain": [
       "171.0"
      ]
     },
     "execution_count": 23,
     "metadata": {},
     "output_type": "execute_result"
    }
   ],
   "source": [
    "quantiles[1]"
   ]
  },
  {
   "cell_type": "code",
   "execution_count": 25,
   "metadata": {},
   "outputs": [
    {
     "data": {
      "text/plain": [
       "100.0"
      ]
     },
     "execution_count": 25,
     "metadata": {},
     "output_type": "execute_result"
    }
   ],
   "source": [
    "quantiles10 = df.approxQuantile(\"PM25\", [0.25,0.99], 0.00)\n",
    "quantiles10[1]"
   ]
  },
  {
   "cell_type": "code",
   "execution_count": 4,
   "metadata": {},
   "outputs": [],
   "source": [
    "df2=df.filter(\"Station_code=101\")"
   ]
  },
  {
   "cell_type": "code",
   "execution_count": 10,
   "metadata": {},
   "outputs": [
    {
     "data": {
      "text/plain": [
       "25905"
      ]
     },
     "execution_count": 10,
     "metadata": {},
     "output_type": "execute_result"
    }
   ],
   "source": [
    "df2.count()"
   ]
  },
  {
   "cell_type": "code",
   "execution_count": 34,
   "metadata": {},
   "outputs": [
    {
     "name": "stdout",
     "output_type": "stream",
     "text": [
      "+----------------+------------+--------------------+----------+-----------+-----+-----+-----+---+----+----+\n",
      "|Measurement_date|Station_code|             Address|  Latitude|  Longitude|  SO2|  NO2|   O3| CO|PM10|PM25|\n",
      "+----------------+------------+--------------------+----------+-----------+-----+-----+-----+---+----+----+\n",
      "|   2017/1/1 0:00|         101|19, Jong-ro 35ga-...|37.5720164|127.0050075|0.004|0.059|0.002|1.2|  73|  57|\n",
      "|   2017/1/1 1:00|         101|19, Jong-ro 35ga-...|37.5720164|127.0050075|0.004|0.058|0.002|1.2|  71|  59|\n",
      "|   2017/1/1 2:00|         101|19, Jong-ro 35ga-...|37.5720164|127.0050075|0.004|0.056|0.002|1.2|  70|  59|\n",
      "|   2017/1/1 3:00|         101|19, Jong-ro 35ga-...|37.5720164|127.0050075|0.004|0.056|0.002|1.2|  70|  58|\n",
      "|   2017/1/1 4:00|         101|19, Jong-ro 35ga-...|37.5720164|127.0050075|0.003|0.051|0.002|1.2|  69|  61|\n",
      "+----------------+------------+--------------------+----------+-----------+-----+-----+-----+---+----+----+\n",
      "only showing top 5 rows\n",
      "\n"
     ]
    }
   ],
   "source": [
    "df2.show(5)"
   ]
  },
  {
   "cell_type": "code",
   "execution_count": 11,
   "metadata": {},
   "outputs": [
    {
     "name": "stdout",
     "output_type": "stream",
     "text": [
      "+----------------+------------+-------+--------+---------+---+---+---+---+----+----+\n",
      "|Measurement_date|Station_code|Address|Latitude|Longitude|SO2|NO2| O3| CO|PM10|PM25|\n",
      "+----------------+------------+-------+--------+---------+---+---+---+---+----+----+\n",
      "|               0|           0|      0|       0|        0| 26|  0|  0|  0|   0|   0|\n",
      "+----------------+------------+-------+--------+---------+---+---+---+---+----+----+\n",
      "\n"
     ]
    }
   ],
   "source": [
    "df2.select([count(when(isnan(c)|col(c).isNull(), c)).alias(c) for c in df2.columns]).show()"
   ]
  },
  {
   "cell_type": "code",
   "execution_count": 5,
   "metadata": {},
   "outputs": [],
   "source": [
    "mean_SO2 = df2.select(mean(df2['SO2'])).collect()"
   ]
  },
  {
   "cell_type": "code",
   "execution_count": 6,
   "metadata": {},
   "outputs": [
    {
     "data": {
      "text/plain": [
       "0.004308126279995904"
      ]
     },
     "execution_count": 6,
     "metadata": {},
     "output_type": "execute_result"
    }
   ],
   "source": [
    "mean_SO2[0][0]"
   ]
  },
  {
   "cell_type": "code",
   "execution_count": 6,
   "metadata": {},
   "outputs": [],
   "source": [
    "mean_SO2_val = mean_SO2[0][0]"
   ]
  },
  {
   "cell_type": "code",
   "execution_count": 7,
   "metadata": {},
   "outputs": [],
   "source": [
    "df3=df2.na.fill(mean_SO2_val, subset=['SO2'])"
   ]
  },
  {
   "cell_type": "code",
   "execution_count": 8,
   "metadata": {},
   "outputs": [
    {
     "name": "stdout",
     "output_type": "stream",
     "text": [
      "+----------------+------------+-------+--------+---------+---+---+---+---+----+----+\n",
      "|Measurement_date|Station_code|Address|Latitude|Longitude|SO2|NO2| O3| CO|PM10|PM25|\n",
      "+----------------+------------+-------+--------+---------+---+---+---+---+----+----+\n",
      "|               0|           0|      0|       0|        0|  0|  0|  0|  0|   0|   0|\n",
      "+----------------+------------+-------+--------+---------+---+---+---+---+----+----+\n",
      "\n"
     ]
    }
   ],
   "source": [
    "df3.select([count(when(isnan(c)|col(c).isNull(), c)).alias(c) for c in df3.columns]).show()"
   ]
  },
  {
   "cell_type": "code",
   "execution_count": 41,
   "metadata": {},
   "outputs": [
    {
     "name": "stdout",
     "output_type": "stream",
     "text": [
      "+-------+----------------+------------+--------------------+-----------------+------------------+--------------------+--------------------+--------------------+------------------+-----------------+------------------+\n",
      "|summary|Measurement_date|Station_code|             Address|         Latitude|         Longitude|                 SO2|                 NO2|                  O3|                CO|             PM10|              PM25|\n",
      "+-------+----------------+------------+--------------------+-----------------+------------------+--------------------+--------------------+--------------------+------------------+-----------------+------------------+\n",
      "|  count|           25905|       25905|               25905|            25905|             25905|               25905|               25905|               25905|             25905|            25905|             25905|\n",
      "|   mean|            null|       101.0|                null|37.57201640002134|127.00500749994949|0.004308126279995...|0.030516348195328023|0.023517853696196384|0.5837637521713543| 37.9656050955414|22.850453580389885|\n",
      "| stddev|            null|         0.0|                null|              0.0|               0.0|0.010051425447670856|  0.0377434404832314|0.038710004959524306| 0.480945248524788|27.42799008282941| 20.00520957588037|\n",
      "|    min|   2017/1/1 0:00|         101|19, Jong-ro 35ga-...|       37.5720164|       127.0050075|                -1.0|                -1.0|                -1.0|              -1.0|               -1|                -1|\n",
      "|    max|   2019/9/9 9:00|         101|19, Jong-ro 35ga-...|       37.5720164|       127.0050075|               0.406|               0.109|               0.325|              40.0|              516|               513|\n",
      "+-------+----------------+------------+--------------------+-----------------+------------------+--------------------+--------------------+--------------------+------------------+-----------------+------------------+\n",
      "\n"
     ]
    }
   ],
   "source": [
    "df3.describe().show()"
   ]
  },
  {
   "cell_type": "code",
   "execution_count": 9,
   "metadata": {},
   "outputs": [],
   "source": [
    "mean_CO=df3.select(mean(df2['CO'])).collect()"
   ]
  },
  {
   "cell_type": "code",
   "execution_count": 10,
   "metadata": {},
   "outputs": [],
   "source": [
    "mean_PM10=df3.select(mean(df2['PM10'])).collect()"
   ]
  },
  {
   "cell_type": "code",
   "execution_count": 11,
   "metadata": {},
   "outputs": [],
   "source": [
    "mean_PM25=df3.select(mean(df2['PM25'])).collect()"
   ]
  },
  {
   "cell_type": "code",
   "execution_count": 12,
   "metadata": {},
   "outputs": [],
   "source": [
    "mean_NO2=df3.select(mean(df2['NO2'])).collect()"
   ]
  },
  {
   "cell_type": "code",
   "execution_count": 13,
   "metadata": {},
   "outputs": [],
   "source": [
    "mean_O3=df3.select(mean(df2['O3'])).collect()"
   ]
  },
  {
   "cell_type": "code",
   "execution_count": 14,
   "metadata": {},
   "outputs": [],
   "source": [
    "df4 = df3.withColumn(\"SO2\", \\\n",
    "              when(df3[\"SO2\"] == -1,mean_SO2_val ).otherwise(df3[\"SO2\"])).withColumn(\"NO2\", \\\n",
    "              when(df3[\"NO2\"] == -1,mean_NO2[0][0] ).otherwise(df3[\"NO2\"])).withColumn(\"O3\", \\\n",
    "              when(df3[\"O3\"] == -1,mean_O3[0][0] ).otherwise(df3[\"O3\"])).withColumn(\"CO\", \\\n",
    "              when(df3[\"CO\"] == -1,mean_CO[0][0] ).otherwise(df3[\"CO\"])).withColumn(\"PM10\", \\\n",
    "              when(df3[\"PM10\"] == -1,mean_PM10[0][0] ).otherwise(df3[\"PM10\"])).withColumn(\"PM25\", \\\n",
    "              when(df3[\"PM25\"] == -1,mean_PM25[0][0] ).otherwise(df3[\"PM25\"]))"
   ]
  },
  {
   "cell_type": "code",
   "execution_count": 22,
   "metadata": {
    "scrolled": true
   },
   "outputs": [
    {
     "name": "stdout",
     "output_type": "stream",
     "text": [
      "+-------+--------------------+--------------------+------------------+------------------+------------------+--------------------+\n",
      "|summary|SO2                 |NO2                 |PM10              |PM25              |CO                |O3                  |\n",
      "+-------+--------------------+--------------------+------------------+------------------+------------------+--------------------+\n",
      "|count  |25905               |25905               |25905             |25905             |25905             |25905               |\n",
      "|mean   |0.004385664062376209|0.03163020489285626 |38.01073028963004 |22.889122526553802|0.5854755987284198|0.024624145914049864|\n",
      "|stddev |0.004811476912778703|0.016596226285800948|27.395879348007718|19.982107179194774|0.4781151915162288|0.01910201575997793 |\n",
      "|min    |0.0                 |0.0                 |0.0               |0.0               |0.0               |0.0                 |\n",
      "|max    |0.406               |0.109               |516.0             |513.0             |40.0              |0.325               |\n",
      "+-------+--------------------+--------------------+------------------+------------------+------------------+--------------------+\n",
      "\n"
     ]
    }
   ],
   "source": [
    "df4.describe(\"SO2\",\"NO2\",\"PM10\",\"PM25\",\"CO\",\"O3\").show(truncate = False)"
   ]
  },
  {
   "cell_type": "code",
   "execution_count": 78,
   "metadata": {},
   "outputs": [
    {
     "name": "stdout",
     "output_type": "stream",
     "text": [
      "85.0 11.0\n"
     ]
    }
   ],
   "source": [
    "quantiles = df4.approxQuantile(\"PM25\", [0.25,0.987], 0.0)\n",
    "print(quantiles[1],quantiles[0])"
   ]
  },
  {
   "cell_type": "code",
   "execution_count": 79,
   "metadata": {},
   "outputs": [
    {
     "name": "stdout",
     "output_type": "stream",
     "text": [
      "bounds:  {'PM25': [-100.0, 196.0]}\n"
     ]
    }
   ],
   "source": [
    "IQR = quantiles[1] - quantiles[0]\n",
    "bounds = {}\n",
    "bounds[\"PM25\"] = [quantiles[0] - 1.5*IQR, quantiles[1] + 1.5*IQR]\n",
    "print(\"bounds: \",bounds)"
   ]
  },
  {
   "cell_type": "code",
   "execution_count": 81,
   "metadata": {},
   "outputs": [
    {
     "name": "stdout",
     "output_type": "stream",
     "text": [
      "92.0 21.0\n"
     ]
    }
   ],
   "source": [
    "quantiles2 = df4.approxQuantile(\"PM10\", [0.25,0.96], 0.0)\n",
    "print(quantiles2[1],quantiles2[0])"
   ]
  },
  {
   "cell_type": "code",
   "execution_count": 82,
   "metadata": {},
   "outputs": [
    {
     "name": "stdout",
     "output_type": "stream",
     "text": [
      "bounds:  {'PM10': [-85.5, 198.5]}\n"
     ]
    }
   ],
   "source": [
    "IQR2 = quantiles2[1] - quantiles2[0]\n",
    "bounds = {}\n",
    "bounds[\"PM10\"] = [quantiles2[0] - 1.5*IQR2, quantiles2[1] + 1.5*IQR2]\n",
    "print(\"bounds: \",bounds)"
   ]
  },
  {
   "cell_type": "code",
   "execution_count": 15,
   "metadata": {
    "scrolled": false
   },
   "outputs": [],
   "source": [
    "df5 = df4.withColumn(\"PM10\", \\\n",
    "              when(df4[\"PM10\"] >199,mean_PM10[0][0] ).otherwise(df4[\"PM10\"])).withColumn(\"PM25\", \\\n",
    "              when(df4[\"PM25\"] >196,mean_PM25[0][0] ).otherwise(df4[\"PM25\"]))"
   ]
  },
  {
   "cell_type": "code",
   "execution_count": 24,
   "metadata": {},
   "outputs": [
    {
     "name": "stdout",
     "output_type": "stream",
     "text": [
      "+-------+------------------+------------------+\n",
      "|summary|              PM10|              PM25|\n",
      "+-------+------------------+------------------+\n",
      "|  count|             25905|             25905|\n",
      "|   mean| 37.51481102558707|22.561284814181356|\n",
      "| stddev|24.751142376615665| 17.37208797651781|\n",
      "|    min|               0.0|               0.0|\n",
      "|    max|             199.0|             191.0|\n",
      "+-------+------------------+------------------+\n",
      "\n"
     ]
    }
   ],
   "source": [
    "df5.describe(\"PM10\",\"PM25\").show()"
   ]
  },
  {
   "cell_type": "code",
   "execution_count": 16,
   "metadata": {},
   "outputs": [],
   "source": [
    "from pyspark.sql.functions import monotonically_increasing_id"
   ]
  },
  {
   "cell_type": "code",
   "execution_count": 17,
   "metadata": {},
   "outputs": [],
   "source": [
    "df6 = df5.withColumn(\"id\", monotonically_increasing_id())"
   ]
  },
  {
   "cell_type": "code",
   "execution_count": 88,
   "metadata": {},
   "outputs": [
    {
     "name": "stdout",
     "output_type": "stream",
     "text": [
      "+----------------+------------+--------------------+----------+-----------+-----+-----+-----+---+----+----+---+\n",
      "|Measurement_date|Station_code|             Address|  Latitude|  Longitude|  SO2|  NO2|   O3| CO|PM10|PM25| id|\n",
      "+----------------+------------+--------------------+----------+-----------+-----+-----+-----+---+----+----+---+\n",
      "|   2017/1/1 0:00|         101|19, Jong-ro 35ga-...|37.5720164|127.0050075|0.004|0.059|0.002|1.2|73.0|57.0|  0|\n",
      "|   2017/1/1 1:00|         101|19, Jong-ro 35ga-...|37.5720164|127.0050075|0.004|0.058|0.002|1.2|71.0|59.0|  1|\n",
      "|   2017/1/1 2:00|         101|19, Jong-ro 35ga-...|37.5720164|127.0050075|0.004|0.056|0.002|1.2|70.0|59.0|  2|\n",
      "|   2017/1/1 3:00|         101|19, Jong-ro 35ga-...|37.5720164|127.0050075|0.004|0.056|0.002|1.2|70.0|58.0|  3|\n",
      "|   2017/1/1 4:00|         101|19, Jong-ro 35ga-...|37.5720164|127.0050075|0.003|0.051|0.002|1.2|69.0|61.0|  4|\n",
      "|   2017/1/1 5:00|         101|19, Jong-ro 35ga-...|37.5720164|127.0050075|0.003|0.046|0.002|1.1|70.0|61.0|  5|\n",
      "|   2017/1/1 6:00|         101|19, Jong-ro 35ga-...|37.5720164|127.0050075|0.003|0.049|0.002|1.1|66.0|57.0|  6|\n",
      "|   2017/1/1 7:00|         101|19, Jong-ro 35ga-...|37.5720164|127.0050075|0.003|0.045|0.002|1.0|71.0|60.0|  7|\n",
      "|   2017/1/1 8:00|         101|19, Jong-ro 35ga-...|37.5720164|127.0050075|0.004|0.047|0.002|1.1|72.0|60.0|  8|\n",
      "|   2017/1/1 9:00|         101|19, Jong-ro 35ga-...|37.5720164|127.0050075|0.003|0.047|0.002|1.1|74.0|63.0|  9|\n",
      "|  2017/1/1 10:00|         101|19, Jong-ro 35ga-...|37.5720164|127.0050075|0.004|0.045|0.004|1.0|76.0|68.0| 10|\n",
      "|  2017/1/1 11:00|         101|19, Jong-ro 35ga-...|37.5720164|127.0050075|0.004|0.048|0.005|1.0|83.0|74.0| 11|\n",
      "|  2017/1/1 12:00|         101|19, Jong-ro 35ga-...|37.5720164|127.0050075|0.004|0.054|0.005|1.0|93.0|79.0| 12|\n",
      "|  2017/1/1 13:00|         101|19, Jong-ro 35ga-...|37.5720164|127.0050075|0.005| 0.05|0.007|1.0|94.0|79.0| 13|\n",
      "|  2017/1/1 14:00|         101|19, Jong-ro 35ga-...|37.5720164|127.0050075|0.006|0.055|0.008|0.9|93.0|78.0| 14|\n",
      "|  2017/1/1 15:00|         101|19, Jong-ro 35ga-...|37.5720164|127.0050075|0.006|0.056|0.008|0.8|87.0|69.0| 15|\n",
      "|  2017/1/1 16:00|         101|19, Jong-ro 35ga-...|37.5720164|127.0050075|0.006|0.063|0.004|0.9|87.0|69.0| 16|\n",
      "|  2017/1/1 17:00|         101|19, Jong-ro 35ga-...|37.5720164|127.0050075|0.005|0.063|0.002|0.9|91.0|72.0| 17|\n",
      "|  2017/1/1 18:00|         101|19, Jong-ro 35ga-...|37.5720164|127.0050075|0.005|0.063|0.002|1.0|91.0|69.0| 18|\n",
      "|  2017/1/1 19:00|         101|19, Jong-ro 35ga-...|37.5720164|127.0050075|0.005|0.062|0.002|1.0|92.0|70.0| 19|\n",
      "+----------------+------------+--------------------+----------+-----------+-----+-----+-----+---+----+----+---+\n",
      "only showing top 20 rows\n",
      "\n"
     ]
    }
   ],
   "source": [
    "df6.show()"
   ]
  },
  {
   "cell_type": "code",
   "execution_count": 18,
   "metadata": {},
   "outputs": [],
   "source": [
    "my_window = Window.partitionBy().orderBy(\"id\")\n",
    "df6=df6.withColumn(\"pre\",F.lag(df6.PM25).over(my_window))"
   ]
  },
  {
   "cell_type": "code",
   "execution_count": 90,
   "metadata": {},
   "outputs": [
    {
     "name": "stdout",
     "output_type": "stream",
     "text": [
      "+----------------+------------+--------------------+----------+-----------+-----+-----+-----+---+----+----+---+----+\n",
      "|Measurement_date|Station_code|             Address|  Latitude|  Longitude|  SO2|  NO2|   O3| CO|PM10|PM25| id| pre|\n",
      "+----------------+------------+--------------------+----------+-----------+-----+-----+-----+---+----+----+---+----+\n",
      "|   2017/1/1 0:00|         101|19, Jong-ro 35ga-...|37.5720164|127.0050075|0.004|0.059|0.002|1.2|73.0|57.0|  0|null|\n",
      "|   2017/1/1 1:00|         101|19, Jong-ro 35ga-...|37.5720164|127.0050075|0.004|0.058|0.002|1.2|71.0|59.0|  1|57.0|\n",
      "|   2017/1/1 2:00|         101|19, Jong-ro 35ga-...|37.5720164|127.0050075|0.004|0.056|0.002|1.2|70.0|59.0|  2|59.0|\n",
      "|   2017/1/1 3:00|         101|19, Jong-ro 35ga-...|37.5720164|127.0050075|0.004|0.056|0.002|1.2|70.0|58.0|  3|59.0|\n",
      "|   2017/1/1 4:00|         101|19, Jong-ro 35ga-...|37.5720164|127.0050075|0.003|0.051|0.002|1.2|69.0|61.0|  4|58.0|\n",
      "|   2017/1/1 5:00|         101|19, Jong-ro 35ga-...|37.5720164|127.0050075|0.003|0.046|0.002|1.1|70.0|61.0|  5|61.0|\n",
      "|   2017/1/1 6:00|         101|19, Jong-ro 35ga-...|37.5720164|127.0050075|0.003|0.049|0.002|1.1|66.0|57.0|  6|61.0|\n",
      "|   2017/1/1 7:00|         101|19, Jong-ro 35ga-...|37.5720164|127.0050075|0.003|0.045|0.002|1.0|71.0|60.0|  7|57.0|\n",
      "|   2017/1/1 8:00|         101|19, Jong-ro 35ga-...|37.5720164|127.0050075|0.004|0.047|0.002|1.1|72.0|60.0|  8|60.0|\n",
      "|   2017/1/1 9:00|         101|19, Jong-ro 35ga-...|37.5720164|127.0050075|0.003|0.047|0.002|1.1|74.0|63.0|  9|60.0|\n",
      "|  2017/1/1 10:00|         101|19, Jong-ro 35ga-...|37.5720164|127.0050075|0.004|0.045|0.004|1.0|76.0|68.0| 10|63.0|\n",
      "|  2017/1/1 11:00|         101|19, Jong-ro 35ga-...|37.5720164|127.0050075|0.004|0.048|0.005|1.0|83.0|74.0| 11|68.0|\n",
      "|  2017/1/1 12:00|         101|19, Jong-ro 35ga-...|37.5720164|127.0050075|0.004|0.054|0.005|1.0|93.0|79.0| 12|74.0|\n",
      "|  2017/1/1 13:00|         101|19, Jong-ro 35ga-...|37.5720164|127.0050075|0.005| 0.05|0.007|1.0|94.0|79.0| 13|79.0|\n",
      "|  2017/1/1 14:00|         101|19, Jong-ro 35ga-...|37.5720164|127.0050075|0.006|0.055|0.008|0.9|93.0|78.0| 14|79.0|\n",
      "|  2017/1/1 15:00|         101|19, Jong-ro 35ga-...|37.5720164|127.0050075|0.006|0.056|0.008|0.8|87.0|69.0| 15|78.0|\n",
      "|  2017/1/1 16:00|         101|19, Jong-ro 35ga-...|37.5720164|127.0050075|0.006|0.063|0.004|0.9|87.0|69.0| 16|69.0|\n",
      "|  2017/1/1 17:00|         101|19, Jong-ro 35ga-...|37.5720164|127.0050075|0.005|0.063|0.002|0.9|91.0|72.0| 17|69.0|\n",
      "|  2017/1/1 18:00|         101|19, Jong-ro 35ga-...|37.5720164|127.0050075|0.005|0.063|0.002|1.0|91.0|69.0| 18|72.0|\n",
      "|  2017/1/1 19:00|         101|19, Jong-ro 35ga-...|37.5720164|127.0050075|0.005|0.062|0.002|1.0|92.0|70.0| 19|69.0|\n",
      "+----------------+------------+--------------------+----------+-----------+-----+-----+-----+---+----+----+---+----+\n",
      "only showing top 20 rows\n",
      "\n"
     ]
    }
   ],
   "source": [
    "df6.show()"
   ]
  },
  {
   "cell_type": "code",
   "execution_count": 19,
   "metadata": {},
   "outputs": [],
   "source": [
    "df6=df6.withColumn(\"diff\",F.when(F.isnull(df6.PM25-df6.pre),0).otherwise(df6.PM25-df6.pre))"
   ]
  },
  {
   "cell_type": "code",
   "execution_count": 92,
   "metadata": {},
   "outputs": [
    {
     "name": "stdout",
     "output_type": "stream",
     "text": [
      "+----------------+------------+--------------------+----------+-----------+-----+-----+-----+---+----+----+---+----+----+\n",
      "|Measurement_date|Station_code|             Address|  Latitude|  Longitude|  SO2|  NO2|   O3| CO|PM10|PM25| id| pre|diff|\n",
      "+----------------+------------+--------------------+----------+-----------+-----+-----+-----+---+----+----+---+----+----+\n",
      "|   2017/1/1 0:00|         101|19, Jong-ro 35ga-...|37.5720164|127.0050075|0.004|0.059|0.002|1.2|73.0|57.0|  0|null| 0.0|\n",
      "|   2017/1/1 1:00|         101|19, Jong-ro 35ga-...|37.5720164|127.0050075|0.004|0.058|0.002|1.2|71.0|59.0|  1|57.0| 2.0|\n",
      "|   2017/1/1 2:00|         101|19, Jong-ro 35ga-...|37.5720164|127.0050075|0.004|0.056|0.002|1.2|70.0|59.0|  2|59.0| 0.0|\n",
      "|   2017/1/1 3:00|         101|19, Jong-ro 35ga-...|37.5720164|127.0050075|0.004|0.056|0.002|1.2|70.0|58.0|  3|59.0|-1.0|\n",
      "|   2017/1/1 4:00|         101|19, Jong-ro 35ga-...|37.5720164|127.0050075|0.003|0.051|0.002|1.2|69.0|61.0|  4|58.0| 3.0|\n",
      "|   2017/1/1 5:00|         101|19, Jong-ro 35ga-...|37.5720164|127.0050075|0.003|0.046|0.002|1.1|70.0|61.0|  5|61.0| 0.0|\n",
      "|   2017/1/1 6:00|         101|19, Jong-ro 35ga-...|37.5720164|127.0050075|0.003|0.049|0.002|1.1|66.0|57.0|  6|61.0|-4.0|\n",
      "|   2017/1/1 7:00|         101|19, Jong-ro 35ga-...|37.5720164|127.0050075|0.003|0.045|0.002|1.0|71.0|60.0|  7|57.0| 3.0|\n",
      "|   2017/1/1 8:00|         101|19, Jong-ro 35ga-...|37.5720164|127.0050075|0.004|0.047|0.002|1.1|72.0|60.0|  8|60.0| 0.0|\n",
      "|   2017/1/1 9:00|         101|19, Jong-ro 35ga-...|37.5720164|127.0050075|0.003|0.047|0.002|1.1|74.0|63.0|  9|60.0| 3.0|\n",
      "|  2017/1/1 10:00|         101|19, Jong-ro 35ga-...|37.5720164|127.0050075|0.004|0.045|0.004|1.0|76.0|68.0| 10|63.0| 5.0|\n",
      "|  2017/1/1 11:00|         101|19, Jong-ro 35ga-...|37.5720164|127.0050075|0.004|0.048|0.005|1.0|83.0|74.0| 11|68.0| 6.0|\n",
      "|  2017/1/1 12:00|         101|19, Jong-ro 35ga-...|37.5720164|127.0050075|0.004|0.054|0.005|1.0|93.0|79.0| 12|74.0| 5.0|\n",
      "|  2017/1/1 13:00|         101|19, Jong-ro 35ga-...|37.5720164|127.0050075|0.005| 0.05|0.007|1.0|94.0|79.0| 13|79.0| 0.0|\n",
      "|  2017/1/1 14:00|         101|19, Jong-ro 35ga-...|37.5720164|127.0050075|0.006|0.055|0.008|0.9|93.0|78.0| 14|79.0|-1.0|\n",
      "|  2017/1/1 15:00|         101|19, Jong-ro 35ga-...|37.5720164|127.0050075|0.006|0.056|0.008|0.8|87.0|69.0| 15|78.0|-9.0|\n",
      "|  2017/1/1 16:00|         101|19, Jong-ro 35ga-...|37.5720164|127.0050075|0.006|0.063|0.004|0.9|87.0|69.0| 16|69.0| 0.0|\n",
      "|  2017/1/1 17:00|         101|19, Jong-ro 35ga-...|37.5720164|127.0050075|0.005|0.063|0.002|0.9|91.0|72.0| 17|69.0| 3.0|\n",
      "|  2017/1/1 18:00|         101|19, Jong-ro 35ga-...|37.5720164|127.0050075|0.005|0.063|0.002|1.0|91.0|69.0| 18|72.0|-3.0|\n",
      "|  2017/1/1 19:00|         101|19, Jong-ro 35ga-...|37.5720164|127.0050075|0.005|0.062|0.002|1.0|92.0|70.0| 19|69.0| 1.0|\n",
      "+----------------+------------+--------------------+----------+-----------+-----+-----+-----+---+----+----+---+----+----+\n",
      "only showing top 20 rows\n",
      "\n"
     ]
    }
   ],
   "source": [
    "df6.show()"
   ]
  },
  {
   "cell_type": "code",
   "execution_count": 20,
   "metadata": {},
   "outputs": [],
   "source": [
    "df_s = spark.read.csv(\"./status5.csv\",header=\"true\" )"
   ]
  },
  {
   "cell_type": "code",
   "execution_count": 30,
   "metadata": {},
   "outputs": [
    {
     "name": "stdout",
     "output_type": "stream",
     "text": [
      "+----------------+------+\n",
      "|Measurement_date|status|\n",
      "+----------------+------+\n",
      "|   2017/1/1 0:00|     0|\n",
      "|   2017/1/1 1:00|     0|\n",
      "+----------------+------+\n",
      "only showing top 2 rows\n",
      "\n",
      "root\n",
      " |-- Measurement_date: string (nullable = true)\n",
      " |-- status: string (nullable = true)\n",
      "\n"
     ]
    },
    {
     "data": {
      "text/plain": [
       "25905"
      ]
     },
     "execution_count": 30,
     "metadata": {},
     "output_type": "execute_result"
    }
   ],
   "source": [
    "df_s.show(2)\n",
    "df_s.printSchema()\n",
    "df_s.count()"
   ]
  },
  {
   "cell_type": "code",
   "execution_count": 21,
   "metadata": {},
   "outputs": [],
   "source": [
    "df_n = df6.join(df_s, df5.Measurement_date == df_s.Measurement_date,how='left').drop(df_s.Measurement_date)"
   ]
  },
  {
   "cell_type": "code",
   "execution_count": 36,
   "metadata": {},
   "outputs": [
    {
     "name": "stdout",
     "output_type": "stream",
     "text": [
      "+----------------+------------+--------------------+----------+-----------+-----+-----+-----+---+----+----+---+----+----+------+\n",
      "|Measurement_date|Station_code|             Address|  Latitude|  Longitude|  SO2|  NO2|   O3| CO|PM10|PM25| id| pre|diff|status|\n",
      "+----------------+------------+--------------------+----------+-----------+-----+-----+-----+---+----+----+---+----+----+------+\n",
      "|   2017/1/1 0:00|         101|19, Jong-ro 35ga-...|37.5720164|127.0050075|0.004|0.059|0.002|1.2|73.0|57.0|  0|null| 0.0|     0|\n",
      "|   2017/1/1 1:00|         101|19, Jong-ro 35ga-...|37.5720164|127.0050075|0.004|0.058|0.002|1.2|71.0|59.0|  1|57.0| 2.0|     0|\n",
      "|   2017/1/1 2:00|         101|19, Jong-ro 35ga-...|37.5720164|127.0050075|0.004|0.056|0.002|1.2|70.0|59.0|  2|59.0| 0.0|     0|\n",
      "|   2017/1/1 3:00|         101|19, Jong-ro 35ga-...|37.5720164|127.0050075|0.004|0.056|0.002|1.2|70.0|58.0|  3|59.0|-1.0|     0|\n",
      "|   2017/1/1 4:00|         101|19, Jong-ro 35ga-...|37.5720164|127.0050075|0.003|0.051|0.002|1.2|69.0|61.0|  4|58.0| 3.0|     0|\n",
      "+----------------+------------+--------------------+----------+-----------+-----+-----+-----+---+----+----+---+----+----+------+\n",
      "only showing top 5 rows\n",
      "\n"
     ]
    }
   ],
   "source": [
    "df_n.show(5)"
   ]
  },
  {
   "cell_type": "code",
   "execution_count": 37,
   "metadata": {},
   "outputs": [
    {
     "data": {
      "text/plain": [
       "25905"
      ]
     },
     "execution_count": 37,
     "metadata": {},
     "output_type": "execute_result"
    }
   ],
   "source": [
    "df_n.count()"
   ]
  },
  {
   "cell_type": "code",
   "execution_count": 38,
   "metadata": {},
   "outputs": [
    {
     "name": "stdout",
     "output_type": "stream",
     "text": [
      "root\n",
      " |-- Measurement_date: string (nullable = true)\n",
      " |-- Station_code: integer (nullable = true)\n",
      " |-- Address: string (nullable = true)\n",
      " |-- Latitude: double (nullable = true)\n",
      " |-- Longitude: double (nullable = true)\n",
      " |-- SO2: double (nullable = false)\n",
      " |-- NO2: double (nullable = true)\n",
      " |-- O3: double (nullable = true)\n",
      " |-- CO: double (nullable = true)\n",
      " |-- PM10: double (nullable = true)\n",
      " |-- PM25: double (nullable = true)\n",
      " |-- id: long (nullable = false)\n",
      " |-- pre: double (nullable = true)\n",
      " |-- diff: double (nullable = true)\n",
      " |-- status: string (nullable = true)\n",
      "\n"
     ]
    }
   ],
   "source": [
    "df_n.printSchema()"
   ]
  },
  {
   "cell_type": "code",
   "execution_count": 22,
   "metadata": {},
   "outputs": [],
   "source": [
    "from pyspark.sql.functions import unix_timestamp, col\n",
    "from pyspark.sql.types import TimestampType"
   ]
  },
  {
   "cell_type": "code",
   "execution_count": 23,
   "metadata": {},
   "outputs": [
    {
     "name": "stdout",
     "output_type": "stream",
     "text": [
      "+--------------------+------------+--------------------+----------+-----------+-----+-----+-----+---+----+----+---+----+------+\n",
      "|           timestamp|Station_code|             Address|  Latitude|  Longitude|  SO2|  NO2|   O3| CO|PM10|PM25| id|diff|status|\n",
      "+--------------------+------------+--------------------+----------+-----------+-----+-----+-----+---+----+----+---+----+------+\n",
      "|2017-01-01 00:00:...|         101|19, Jong-ro 35ga-...|37.5720164|127.0050075|0.004|0.059|0.002|1.2|73.0|57.0|  0| 0.0|     0|\n",
      "|2017-01-01 01:00:...|         101|19, Jong-ro 35ga-...|37.5720164|127.0050075|0.004|0.058|0.002|1.2|71.0|59.0|  1| 2.0|     0|\n",
      "|2017-01-01 02:00:...|         101|19, Jong-ro 35ga-...|37.5720164|127.0050075|0.004|0.056|0.002|1.2|70.0|59.0|  2| 0.0|     0|\n",
      "|2017-01-01 03:00:...|         101|19, Jong-ro 35ga-...|37.5720164|127.0050075|0.004|0.056|0.002|1.2|70.0|58.0|  3|-1.0|     0|\n",
      "|2017-01-01 04:00:...|         101|19, Jong-ro 35ga-...|37.5720164|127.0050075|0.003|0.051|0.002|1.2|69.0|61.0|  4| 3.0|     0|\n",
      "|2017-01-01 05:00:...|         101|19, Jong-ro 35ga-...|37.5720164|127.0050075|0.003|0.046|0.002|1.1|70.0|61.0|  5| 0.0|     0|\n",
      "|2017-01-01 06:00:...|         101|19, Jong-ro 35ga-...|37.5720164|127.0050075|0.003|0.049|0.002|1.1|66.0|57.0|  6|-4.0|     0|\n",
      "|2017-01-01 07:00:...|         101|19, Jong-ro 35ga-...|37.5720164|127.0050075|0.003|0.045|0.002|1.0|71.0|60.0|  7| 3.0|     0|\n",
      "|2017-01-01 08:00:...|         101|19, Jong-ro 35ga-...|37.5720164|127.0050075|0.004|0.047|0.002|1.1|72.0|60.0|  8| 0.0|     0|\n",
      "|2017-01-01 09:00:...|         101|19, Jong-ro 35ga-...|37.5720164|127.0050075|0.003|0.047|0.002|1.1|74.0|63.0|  9| 3.0|     0|\n",
      "|2017-01-01 10:00:...|         101|19, Jong-ro 35ga-...|37.5720164|127.0050075|0.004|0.045|0.004|1.0|76.0|68.0| 10| 5.0|     0|\n",
      "|2017-01-01 11:00:...|         101|19, Jong-ro 35ga-...|37.5720164|127.0050075|0.004|0.048|0.005|1.0|83.0|74.0| 11| 6.0|     0|\n",
      "|2017-01-01 12:00:...|         101|19, Jong-ro 35ga-...|37.5720164|127.0050075|0.004|0.054|0.005|1.0|93.0|79.0| 12| 5.0|     0|\n",
      "|2017-01-01 13:00:...|         101|19, Jong-ro 35ga-...|37.5720164|127.0050075|0.005| 0.05|0.007|1.0|94.0|79.0| 13| 0.0|     0|\n",
      "|2017-01-01 14:00:...|         101|19, Jong-ro 35ga-...|37.5720164|127.0050075|0.006|0.055|0.008|0.9|93.0|78.0| 14|-1.0|     0|\n",
      "|2017-01-01 15:00:...|         101|19, Jong-ro 35ga-...|37.5720164|127.0050075|0.006|0.056|0.008|0.8|87.0|69.0| 15|-9.0|     0|\n",
      "|2017-01-01 16:00:...|         101|19, Jong-ro 35ga-...|37.5720164|127.0050075|0.006|0.063|0.004|0.9|87.0|69.0| 16| 0.0|     0|\n",
      "|2017-01-01 17:00:...|         101|19, Jong-ro 35ga-...|37.5720164|127.0050075|0.005|0.063|0.002|0.9|91.0|72.0| 17| 3.0|     0|\n",
      "|2017-01-01 18:00:...|         101|19, Jong-ro 35ga-...|37.5720164|127.0050075|0.005|0.063|0.002|1.0|91.0|69.0| 18|-3.0|     0|\n",
      "|2017-01-01 19:00:...|         101|19, Jong-ro 35ga-...|37.5720164|127.0050075|0.005|0.062|0.002|1.0|92.0|70.0| 19| 1.0|     0|\n",
      "+--------------------+------------+--------------------+----------+-----------+-----+-----+-----+---+----+----+---+----+------+\n",
      "only showing top 20 rows\n",
      "\n"
     ]
    }
   ],
   "source": [
    "df7 = df_n.select(unix_timestamp(df_n.Measurement_date, 'yyyy/MM/dd HH:mm').cast(TimestampType()).alias(\"timestamp\"),\n",
    "                  \"Station_code\",\"Address\",\"Latitude\",\"Longitude\",\"SO2\",\"NO2\",\"O3\",\"CO\",\"PM10\",\"PM25\",\"id\",\"diff\",\"status\")\n",
    "df7.show()"
   ]
  },
  {
   "cell_type": "code",
   "execution_count": 25,
   "metadata": {
    "scrolled": true
   },
   "outputs": [
    {
     "name": "stdout",
     "output_type": "stream",
     "text": [
      "root\n",
      " |-- timestamp: timestamp (nullable = true)\n",
      " |-- Station_code: integer (nullable = true)\n",
      " |-- Address: string (nullable = true)\n",
      " |-- Latitude: double (nullable = true)\n",
      " |-- Longitude: double (nullable = true)\n",
      " |-- SO2: double (nullable = false)\n",
      " |-- NO2: double (nullable = true)\n",
      " |-- O3: double (nullable = true)\n",
      " |-- CO: double (nullable = true)\n",
      " |-- PM10: double (nullable = true)\n",
      " |-- PM25: double (nullable = true)\n",
      " |-- id: long (nullable = false)\n",
      " |-- diff: double (nullable = true)\n",
      " |-- status: string (nullable = true)\n",
      "\n"
     ]
    }
   ],
   "source": [
    "df7.printSchema()"
   ]
  },
  {
   "cell_type": "code",
   "execution_count": 24,
   "metadata": {},
   "outputs": [],
   "source": [
    "#selectdata=df7.select(\"SO2\",\"NO2\",\"O3\",\"CO\",\"PM10\",\"PM25\",\"diff\",\"status\")\n",
    "selectdata=df7.select(\"SO2\",\"NO2\",\"O3\",\"CO\",\"PM10\",\"PM25\",\"diff\")"
   ]
  },
  {
   "cell_type": "code",
   "execution_count": 25,
   "metadata": {},
   "outputs": [],
   "source": [
    "from pyspark.ml.feature import (VectorAssembler,VectorIndexer,\n",
    "                                OneHotEncoder,StringIndexer)\n",
    "from pyspark.ml.linalg import Vectors"
   ]
  },
  {
   "cell_type": "code",
   "execution_count": 77,
   "metadata": {},
   "outputs": [],
   "source": [
    "stringIndexer = StringIndexer(inputCol=\"status\", outputCol=\"statusIndex\")\n",
    "model = stringIndexer.fit(selectdata)\n",
    "indexed = model.transform(selectdata)"
   ]
  },
  {
   "cell_type": "code",
   "execution_count": 78,
   "metadata": {},
   "outputs": [],
   "source": [
    "encoder = OneHotEncoder(inputCol=\"statusIndex\", outputCol=\"statusVec\")\n",
    "encoded = encoder.transform(indexed)"
   ]
  },
  {
   "cell_type": "code",
   "execution_count": 40,
   "metadata": {},
   "outputs": [
    {
     "name": "stdout",
     "output_type": "stream",
     "text": [
      "+------+-----+\n",
      "|status|count|\n",
      "+------+-----+\n",
      "|     0|25362|\n",
      "|     1|  172|\n",
      "|     2|  118|\n",
      "|     4|   43|\n",
      "|     8|   64|\n",
      "|     9|  146|\n",
      "+------+-----+\n",
      "\n"
     ]
    }
   ],
   "source": [
    "plot2=selectdata.groupBy(\"status\").count().orderBy(\"status\")\n",
    "plot2.show()"
   ]
  },
  {
   "cell_type": "code",
   "execution_count": 79,
   "metadata": {
    "scrolled": true
   },
   "outputs": [
    {
     "name": "stdout",
     "output_type": "stream",
     "text": [
      "+-----+-----+-----+---+----+----+----+------+-----------+-------------+\n",
      "|  SO2|  NO2|   O3| CO|PM10|PM25|diff|status|statusIndex|    statusVec|\n",
      "+-----+-----+-----+---+----+----+----+------+-----------+-------------+\n",
      "|0.004|0.059|0.002|1.2|73.0|57.0| 0.0|     0|        0.0|(5,[0],[1.0])|\n",
      "|0.004|0.058|0.002|1.2|71.0|59.0| 2.0|     0|        0.0|(5,[0],[1.0])|\n",
      "|0.004|0.056|0.002|1.2|70.0|59.0| 0.0|     0|        0.0|(5,[0],[1.0])|\n",
      "|0.004|0.056|0.002|1.2|70.0|58.0|-1.0|     0|        0.0|(5,[0],[1.0])|\n",
      "|0.003|0.051|0.002|1.2|69.0|61.0| 3.0|     0|        0.0|(5,[0],[1.0])|\n",
      "|0.003|0.046|0.002|1.1|70.0|61.0| 0.0|     0|        0.0|(5,[0],[1.0])|\n",
      "|0.003|0.049|0.002|1.1|66.0|57.0|-4.0|     0|        0.0|(5,[0],[1.0])|\n",
      "|0.003|0.045|0.002|1.0|71.0|60.0| 3.0|     0|        0.0|(5,[0],[1.0])|\n",
      "|0.004|0.047|0.002|1.1|72.0|60.0| 0.0|     0|        0.0|(5,[0],[1.0])|\n",
      "|0.003|0.047|0.002|1.1|74.0|63.0| 3.0|     0|        0.0|(5,[0],[1.0])|\n",
      "|0.004|0.045|0.004|1.0|76.0|68.0| 5.0|     0|        0.0|(5,[0],[1.0])|\n",
      "|0.004|0.048|0.005|1.0|83.0|74.0| 6.0|     0|        0.0|(5,[0],[1.0])|\n",
      "|0.004|0.054|0.005|1.0|93.0|79.0| 5.0|     0|        0.0|(5,[0],[1.0])|\n",
      "|0.005| 0.05|0.007|1.0|94.0|79.0| 0.0|     0|        0.0|(5,[0],[1.0])|\n",
      "|0.006|0.055|0.008|0.9|93.0|78.0|-1.0|     0|        0.0|(5,[0],[1.0])|\n",
      "|0.006|0.056|0.008|0.8|87.0|69.0|-9.0|     0|        0.0|(5,[0],[1.0])|\n",
      "|0.006|0.063|0.004|0.9|87.0|69.0| 0.0|     0|        0.0|(5,[0],[1.0])|\n",
      "|0.005|0.063|0.002|0.9|91.0|72.0| 3.0|     0|        0.0|(5,[0],[1.0])|\n",
      "|0.005|0.063|0.002|1.0|91.0|69.0|-3.0|     0|        0.0|(5,[0],[1.0])|\n",
      "|0.005|0.062|0.002|1.0|92.0|70.0| 1.0|     0|        0.0|(5,[0],[1.0])|\n",
      "+-----+-----+-----+---+----+----+----+------+-----------+-------------+\n",
      "only showing top 20 rows\n",
      "\n"
     ]
    }
   ],
   "source": [
    "encoded.show()"
   ]
  },
  {
   "cell_type": "code",
   "execution_count": 58,
   "metadata": {},
   "outputs": [],
   "source": [
    "assembler = VectorAssembler(\n",
    "    inputCols=[\"SO2\", \"NO2\",\"O3\",\"CO\",\"PM10\",\"diff\"],\n",
    "    outputCol=\"features\")"
   ]
  },
  {
   "cell_type": "code",
   "execution_count": 27,
   "metadata": {},
   "outputs": [],
   "source": [
    "output = assembler.transform(selectdata)"
   ]
  },
  {
   "cell_type": "code",
   "execution_count": 28,
   "metadata": {
    "scrolled": true
   },
   "outputs": [
    {
     "name": "stdout",
     "output_type": "stream",
     "text": [
      "root\n",
      " |-- SO2: double (nullable = false)\n",
      " |-- NO2: double (nullable = true)\n",
      " |-- O3: double (nullable = true)\n",
      " |-- CO: double (nullable = true)\n",
      " |-- PM10: double (nullable = true)\n",
      " |-- PM25: double (nullable = true)\n",
      " |-- diff: double (nullable = true)\n",
      " |-- features: vector (nullable = true)\n",
      "\n"
     ]
    },
    {
     "data": {
      "text/plain": [
       "[Row(SO2=0.004, NO2=0.059, O3=0.002, CO=1.2, PM10=73.0, PM25=57.0, diff=0.0, features=DenseVector([0.004, 0.059, 0.002, 1.2, 73.0, 0.0]))]"
      ]
     },
     "execution_count": 28,
     "metadata": {},
     "output_type": "execute_result"
    }
   ],
   "source": [
    "output.printSchema()\n",
    "output.head(1)"
   ]
  },
  {
   "cell_type": "code",
   "execution_count": 29,
   "metadata": {
    "scrolled": true
   },
   "outputs": [
    {
     "name": "stdout",
     "output_type": "stream",
     "text": [
      "+--------------------+----+\n",
      "|            features|PM25|\n",
      "+--------------------+----+\n",
      "|[0.004,0.059,0.00...|57.0|\n",
      "|[0.004,0.058,0.00...|59.0|\n",
      "|[0.004,0.056,0.00...|59.0|\n",
      "|[0.004,0.056,0.00...|58.0|\n",
      "|[0.003,0.051,0.00...|61.0|\n",
      "|[0.003,0.046,0.00...|61.0|\n",
      "|[0.003,0.049,0.00...|57.0|\n",
      "|[0.003,0.045,0.00...|60.0|\n",
      "|[0.004,0.047,0.00...|60.0|\n",
      "|[0.003,0.047,0.00...|63.0|\n",
      "|[0.004,0.045,0.00...|68.0|\n",
      "|[0.004,0.048,0.00...|74.0|\n",
      "|[0.004,0.054,0.00...|79.0|\n",
      "|[0.005,0.05,0.007...|79.0|\n",
      "|[0.006,0.055,0.00...|78.0|\n",
      "|[0.006,0.056,0.00...|69.0|\n",
      "|[0.006,0.063,0.00...|69.0|\n",
      "|[0.005,0.063,0.00...|72.0|\n",
      "|[0.005,0.063,0.00...|69.0|\n",
      "|[0.005,0.062,0.00...|70.0|\n",
      "+--------------------+----+\n",
      "only showing top 20 rows\n",
      "\n"
     ]
    }
   ],
   "source": [
    "final_data = output.select(\"features\",'PM25')\n",
    "final_data.show()"
   ]
  },
  {
   "cell_type": "code",
   "execution_count": 30,
   "metadata": {},
   "outputs": [],
   "source": [
    "train_data,test_data = final_data.randomSplit([0.8,0.2])"
   ]
  },
  {
   "cell_type": "code",
   "execution_count": 77,
   "metadata": {
    "scrolled": true
   },
   "outputs": [
    {
     "name": "stdout",
     "output_type": "stream",
     "text": [
      "+--------------------+------------------+\n",
      "|            features|              PM25|\n",
      "+--------------------+------------------+\n",
      "|           (6,[],[])|               0.0|\n",
      "|           (6,[],[])|               0.0|\n",
      "|(6,[2,5],[0.063,-...|               0.0|\n",
      "|(6,[2,5],[0.1,-44...|               0.0|\n",
      "|(6,[4,5],[4.0,16....|22.850453580389885|\n",
      "|(6,[4,5],[25.0,-6...|              11.0|\n",
      "|(6,[4,5],[30.0,-1...|              10.0|\n",
      "|     (6,[5],[-33.0])|               0.0|\n",
      "|     (6,[5],[-27.0])|               0.0|\n",
      "|(6,[5],[-22.85045...|               0.0|\n",
      "|(6,[5],[-22.85045...|               0.0|\n",
      "|     (6,[5],[-20.0])|               0.0|\n",
      "|     (6,[5],[-20.0])|               0.0|\n",
      "|     (6,[5],[-17.0])|               0.0|\n",
      "|     (6,[5],[-16.0])|               0.0|\n",
      "|     (6,[5],[-15.0])|               0.0|\n",
      "|     (6,[5],[-12.0])|               0.0|\n",
      "|[0.0,0.0,0.006,0....|              12.0|\n",
      "|[0.0,0.0,0.025,0....|               9.0|\n",
      "|[0.0,0.0,0.027,0....|              10.0|\n",
      "+--------------------+------------------+\n",
      "only showing top 20 rows\n",
      "\n",
      "+-------+-----------------+\n",
      "|summary|             PM25|\n",
      "+-------+-----------------+\n",
      "|  count|            20809|\n",
      "|   mean| 22.5597901016598|\n",
      "| stddev|17.40716799872057|\n",
      "|    min|              0.0|\n",
      "|    max|            191.0|\n",
      "+-------+-----------------+\n",
      "\n"
     ]
    }
   ],
   "source": [
    "train_data.show()\n",
    "train_data.describe().show()"
   ]
  },
  {
   "cell_type": "code",
   "execution_count": 76,
   "metadata": {},
   "outputs": [
    {
     "name": "stdout",
     "output_type": "stream",
     "text": [
      "+--------------------+----+\n",
      "|            features|PM25|\n",
      "+--------------------+----+\n",
      "|           (6,[],[])| 0.0|\n",
      "|           (6,[],[])| 0.0|\n",
      "|     (6,[5],[-31.0])| 0.0|\n",
      "|     (6,[5],[-26.0])| 0.0|\n",
      "|     (6,[5],[-16.0])| 0.0|\n",
      "|[0.0,0.004,0.005,...|13.0|\n",
      "|[0.001,0.01,0.043...| 7.0|\n",
      "|[0.001,0.011,0.02...| 6.0|\n",
      "|[0.001,0.012,0.01...| 9.0|\n",
      "|[0.001,0.012,0.07...|26.0|\n",
      "|[0.001,0.013,0.00...|16.0|\n",
      "|[0.001,0.013,0.05...|23.0|\n",
      "|[0.001,0.014,0.00...| 4.0|\n",
      "|[0.001,0.014,0.00...|17.0|\n",
      "|[0.001,0.014,0.01...| 6.0|\n",
      "|[0.001,0.015,0.01...|13.0|\n",
      "|[0.001,0.016,0.01...| 5.0|\n",
      "|[0.001,0.016,0.01...|15.0|\n",
      "|[0.001,0.016,0.04...| 8.0|\n",
      "|[0.001,0.017,0.00...|15.0|\n",
      "+--------------------+----+\n",
      "only showing top 20 rows\n",
      "\n",
      "+-------+------------------+\n",
      "|summary|              PM25|\n",
      "+-------+------------------+\n",
      "|  count|              5096|\n",
      "|   mean|22.567388321414715|\n",
      "| stddev| 17.22979712241769|\n",
      "|    min|               0.0|\n",
      "|    max|             148.0|\n",
      "+-------+------------------+\n",
      "\n"
     ]
    }
   ],
   "source": [
    "test_data.show()\n",
    "test_data.describe().show()"
   ]
  },
  {
   "cell_type": "code",
   "execution_count": 32,
   "metadata": {},
   "outputs": [],
   "source": [
    "from pyspark.ml.regression import LinearRegression"
   ]
  },
  {
   "cell_type": "code",
   "execution_count": 33,
   "metadata": {},
   "outputs": [],
   "source": [
    "lr = LinearRegression(featuresCol='features', labelCol='PM25', predictionCol='prediction')"
   ]
  },
  {
   "cell_type": "code",
   "execution_count": 34,
   "metadata": {},
   "outputs": [],
   "source": [
    "correct_model = lr.fit(train_data)"
   ]
  },
  {
   "cell_type": "code",
   "execution_count": 35,
   "metadata": {},
   "outputs": [],
   "source": [
    "test_results = correct_model.evaluate(test_data)"
   ]
  },
  {
   "cell_type": "code",
   "execution_count": 39,
   "metadata": {
    "scrolled": true
   },
   "outputs": [
    {
     "name": "stdout",
     "output_type": "stream",
     "text": [
      "+--------------------+\n",
      "|           residuals|\n",
      "+--------------------+\n",
      "|   3.846913708124502|\n",
      "|   3.846913708124502|\n",
      "|  13.873210451043933|\n",
      "|  12.256065815089187|\n",
      "|   9.021776543179692|\n",
      "|  1.7482136825129526|\n",
      "|   2.371876621095433|\n",
      "|-0.03972485283292393|\n",
      "|   1.630863494178728|\n",
      "|    7.84883782876296|\n",
      "|   4.691486114765626|\n",
      "|   9.412970615710831|\n",
      "|   1.856388724538073|\n",
      "|   5.053015629391151|\n",
      "|  1.3412581834566009|\n",
      "|   4.025232097770628|\n",
      "|   0.846197453169582|\n",
      "|   4.477217520747983|\n",
      "|  1.0455953414962575|\n",
      "| -1.4557858512737951|\n",
      "+--------------------+\n",
      "only showing top 20 rows\n",
      "\n",
      "RMSE: 7.989311242676068\n",
      "r2: 0.7849479512009978\n"
     ]
    }
   ],
   "source": [
    "test_results.residuals.show()\n",
    "print(\"RMSE: {}\".format(test_results.rootMeanSquaredError))\n",
    "# Print R-Squared.\n",
    "print(\"r2: {}\".format(test_results.r2))"
   ]
  },
  {
   "cell_type": "code",
   "execution_count": 36,
   "metadata": {
    "scrolled": true
   },
   "outputs": [
    {
     "name": "stdout",
     "output_type": "stream",
     "text": [
      "Coefficients: [-576.1178707470856,119.97644611874391,49.01715378428392,7.644996364400331,0.5184940392557289,0.3234289271909494]\n",
      "\n",
      "\n",
      "Intercept:-3.846913708124502\n"
     ]
    }
   ],
   "source": [
    "# Print the coefficients and intercept for linear regression\n",
    "print(\"Coefficients: {}\".format(str(correct_model.coefficients))) # For each feature...\n",
    "print('\\n')\n",
    "print(\"Intercept:{}\".format(str(correct_model.intercept)))"
   ]
  },
  {
   "cell_type": "code",
   "execution_count": 89,
   "metadata": {
    "scrolled": false
   },
   "outputs": [
    {
     "data": {
      "text/plain": [
       "{Param(parent='LinearRegression_408fbbe148501e538214', name='aggregationDepth', doc='suggested depth for treeAggregate (>= 2).'): 2,\n",
       " Param(parent='LinearRegression_408fbbe148501e538214', name='elasticNetParam', doc='the ElasticNet mixing parameter, in range [0, 1]. For alpha = 0, the penalty is an L2 penalty. For alpha = 1, it is an L1 penalty.'): 0.8,\n",
       " Param(parent='LinearRegression_408fbbe148501e538214', name='featuresCol', doc='features column name.'): 'features',\n",
       " Param(parent='LinearRegression_408fbbe148501e538214', name='fitIntercept', doc='whether to fit an intercept term.'): True,\n",
       " Param(parent='LinearRegression_408fbbe148501e538214', name='labelCol', doc='label column name.'): 'PM25',\n",
       " Param(parent='LinearRegression_408fbbe148501e538214', name='maxIter', doc='max number of iterations (>= 0).'): 10,\n",
       " Param(parent='LinearRegression_408fbbe148501e538214', name='predictionCol', doc='prediction column name.'): 'prediction',\n",
       " Param(parent='LinearRegression_408fbbe148501e538214', name='regParam', doc='regularization parameter (>= 0).'): 0.3,\n",
       " Param(parent='LinearRegression_408fbbe148501e538214', name='solver', doc=\"the solver algorithm for optimization. If this is not set or empty, default value is 'auto'.\"): 'auto',\n",
       " Param(parent='LinearRegression_408fbbe148501e538214', name='standardization', doc='whether to standardize the training features before fitting the model.'): True,\n",
       " Param(parent='LinearRegression_408fbbe148501e538214', name='tol', doc='the convergence tolerance for iterative algorithms (>= 0).'): 1e-06}"
      ]
     },
     "execution_count": 89,
     "metadata": {},
     "output_type": "execute_result"
    }
   ],
   "source": [
    "lr.extractParamMap()"
   ]
  },
  {
   "cell_type": "code",
   "execution_count": 90,
   "metadata": {},
   "outputs": [],
   "source": [
    "trainingSummary  =  correct_model.summary"
   ]
  },
  {
   "cell_type": "code",
   "execution_count": 46,
   "metadata": {
    "scrolled": true
   },
   "outputs": [
    {
     "name": "stdout",
     "output_type": "stream",
     "text": [
      "numIterations: 1\n"
     ]
    }
   ],
   "source": [
    "print(\"numIterations: %d\" % trainingSummary.totalIterations)"
   ]
  },
  {
   "cell_type": "code",
   "execution_count": 47,
   "metadata": {},
   "outputs": [
    {
     "name": "stdout",
     "output_type": "stream",
     "text": [
      "objectiveHistory: [0.0]\n"
     ]
    }
   ],
   "source": [
    "print(\"objectiveHistory: %s\" % str(trainingSummary.objectiveHistory))"
   ]
  },
  {
   "cell_type": "code",
   "execution_count": 108,
   "metadata": {},
   "outputs": [
    {
     "data": {
      "text/plain": [
       "0.17282307850456896"
      ]
     },
     "execution_count": 108,
     "metadata": {},
     "output_type": "execute_result"
    }
   ],
   "source": [
    "df7.stat.corr(\"SO2\",\"PM25\")"
   ]
  },
  {
   "cell_type": "code",
   "execution_count": 111,
   "metadata": {},
   "outputs": [
    {
     "data": {
      "text/plain": [
       "0.5274193953698306"
      ]
     },
     "execution_count": 111,
     "metadata": {},
     "output_type": "execute_result"
    }
   ],
   "source": [
    "df7.stat.corr(\"NO2\",\"PM25\")"
   ]
  },
  {
   "cell_type": "code",
   "execution_count": 112,
   "metadata": {},
   "outputs": [
    {
     "data": {
      "text/plain": [
       "0.35807770994631544"
      ]
     },
     "execution_count": 112,
     "metadata": {},
     "output_type": "execute_result"
    }
   ],
   "source": [
    "df7.stat.corr(\"CO\",\"PM25\")"
   ]
  },
  {
   "cell_type": "code",
   "execution_count": 113,
   "metadata": {},
   "outputs": [
    {
     "data": {
      "text/plain": [
       "-0.03001099285915479"
      ]
     },
     "execution_count": 113,
     "metadata": {},
     "output_type": "execute_result"
    }
   ],
   "source": [
    "df7.stat.corr(\"O3\",\"PM25\")"
   ]
  },
  {
   "cell_type": "code",
   "execution_count": 115,
   "metadata": {},
   "outputs": [
    {
     "data": {
      "text/plain": [
       "nan"
      ]
     },
     "execution_count": 115,
     "metadata": {},
     "output_type": "execute_result"
    }
   ],
   "source": [
    "df7.stat.corr(\"Latitude\",\"PM25\")"
   ]
  },
  {
   "cell_type": "code",
   "execution_count": 116,
   "metadata": {},
   "outputs": [
    {
     "data": {
      "text/plain": [
       "nan"
      ]
     },
     "execution_count": 116,
     "metadata": {},
     "output_type": "execute_result"
    }
   ],
   "source": [
    "df7.stat.corr(\"Station_code\",\"PM25\")"
   ]
  },
  {
   "cell_type": "code",
   "execution_count": 117,
   "metadata": {},
   "outputs": [
    {
     "data": {
      "text/plain": [
       "nan"
      ]
     },
     "execution_count": 117,
     "metadata": {},
     "output_type": "execute_result"
    }
   ],
   "source": [
    "df7.stat.corr(\"Longitude\",\"PM25\")"
   ]
  },
  {
   "cell_type": "code",
   "execution_count": 118,
   "metadata": {},
   "outputs": [
    {
     "data": {
      "text/plain": [
       "0.8500864132405491"
      ]
     },
     "execution_count": 118,
     "metadata": {},
     "output_type": "execute_result"
    }
   ],
   "source": [
    "df7.stat.corr(\"PM10\",\"PM25\")"
   ]
  },
  {
   "cell_type": "code",
   "execution_count": 119,
   "metadata": {},
   "outputs": [
    {
     "data": {
      "text/plain": [
       "0.18482124840808153"
      ]
     },
     "execution_count": 119,
     "metadata": {},
     "output_type": "execute_result"
    }
   ],
   "source": [
    "df7.stat.corr(\"diff\",\"PM25\")"
   ]
  },
  {
   "cell_type": "code",
   "execution_count": 48,
   "metadata": {},
   "outputs": [
    {
     "name": "stdout",
     "output_type": "stream",
     "text": [
      "meanAbsoluteError: 5.209406\n"
     ]
    }
   ],
   "source": [
    "print(\"meanAbsoluteError: %f\" % trainingSummary.meanAbsoluteError)"
   ]
  },
  {
   "cell_type": "code",
   "execution_count": 49,
   "metadata": {},
   "outputs": [
    {
     "name": "stdout",
     "output_type": "stream",
     "text": [
      "meanSquaredError: 73.096173\n"
     ]
    }
   ],
   "source": [
    "print(\"meanSquaredError: %f\" % trainingSummary.meanSquaredError)\n"
   ]
  },
  {
   "cell_type": "code",
   "execution_count": 53,
   "metadata": {},
   "outputs": [
    {
     "name": "stdout",
     "output_type": "stream",
     "text": [
      "+-------------------+\n",
      "|          residuals|\n",
      "+-------------------+\n",
      "|-2.0525060566629776|\n",
      "|-2.0525060566629776|\n",
      "|-2.0525060566629776|\n",
      "|-2.0525060566629776|\n",
      "|-2.0525060566629776|\n",
      "|-2.0525060566629776|\n",
      "|-2.0525060566629776|\n",
      "|-2.0525060566629776|\n",
      "|-2.0525060566629776|\n",
      "|-2.0525060566629776|\n",
      "|-2.0525060566629776|\n",
      "|-2.0525060566629776|\n",
      "|-2.0525060566629776|\n",
      "| -4.087930682093408|\n",
      "| 1.7426674661873847|\n",
      "| -5.187003864425517|\n",
      "|-12.923276633470389|\n",
      "| 12.866391707351735|\n",
      "| -4.012277974535955|\n",
      "| -4.012277974535955|\n",
      "+-------------------+\n",
      "only showing top 20 rows\n",
      "\n"
     ]
    }
   ],
   "source": [
    "trainingSummary.residuals.show()"
   ]
  },
  {
   "cell_type": "code",
   "execution_count": 54,
   "metadata": {},
   "outputs": [
    {
     "name": "stdout",
     "output_type": "stream",
     "text": [
      "RMSE: 8.549630\n",
      "r2: 0.758918\n"
     ]
    }
   ],
   "source": [
    "print(\"RMSE: %f\" % trainingSummary.rootMeanSquaredError)\n",
    "print(\"r2: %f\" % trainingSummary.r2)"
   ]
  },
  {
   "cell_type": "code",
   "execution_count": 49,
   "metadata": {},
   "outputs": [],
   "source": [
    "from pyspark.ml import Pipeline\n",
    "from pyspark.ml.regression import RandomForestRegressor\n",
    "from pyspark.ml.feature import VectorIndexer\n",
    "from pyspark.ml.evaluation import RegressionEvaluator"
   ]
  },
  {
   "cell_type": "code",
   "execution_count": null,
   "metadata": {},
   "outputs": [],
   "source": []
  },
  {
   "cell_type": "code",
   "execution_count": 60,
   "metadata": {},
   "outputs": [],
   "source": [
    "output=assembler.transform(selectdata)"
   ]
  },
  {
   "cell_type": "code",
   "execution_count": 78,
   "metadata": {},
   "outputs": [],
   "source": [
    "rf = RandomForestRegressor(labelCol=\"PM25\", featuresCol=\"features\",numTrees=20)"
   ]
  },
  {
   "cell_type": "code",
   "execution_count": 83,
   "metadata": {},
   "outputs": [],
   "source": [
    "model_rf= rf.fit(train_data)"
   ]
  },
  {
   "cell_type": "code",
   "execution_count": 84,
   "metadata": {},
   "outputs": [],
   "source": [
    "prediction_rf = model_rf.transform(test_data)"
   ]
  },
  {
   "cell_type": "code",
   "execution_count": 85,
   "metadata": {
    "scrolled": true
   },
   "outputs": [
    {
     "name": "stdout",
     "output_type": "stream",
     "text": [
      "+--------------------+----+------------------+\n",
      "|            features|PM25|        prediction|\n",
      "+--------------------+----+------------------+\n",
      "|           (6,[],[])| 0.0| 6.618850906476887|\n",
      "|           (6,[],[])| 0.0| 6.618850906476887|\n",
      "|     (6,[5],[-31.0])| 0.0| 6.304186987790945|\n",
      "|     (6,[5],[-26.0])| 0.0| 6.304186987790945|\n",
      "|     (6,[5],[-16.0])| 0.0| 6.304186987790945|\n",
      "|[0.0,0.004,0.005,...|13.0| 13.36299402208679|\n",
      "|[0.001,0.01,0.043...| 7.0| 6.764743508513815|\n",
      "|[0.001,0.011,0.02...| 6.0| 6.554872987001653|\n",
      "|[0.001,0.012,0.01...| 9.0| 8.625008195873296|\n",
      "|[0.001,0.012,0.07...|26.0|14.756561582494308|\n",
      "|[0.001,0.013,0.00...|16.0|11.517308587343035|\n",
      "|[0.001,0.013,0.05...|23.0|14.427933499362481|\n",
      "|[0.001,0.014,0.00...| 4.0| 6.721498795779889|\n",
      "|[0.001,0.014,0.00...|17.0| 11.95690227671579|\n",
      "|[0.001,0.014,0.01...| 6.0| 6.515243020999224|\n",
      "|[0.001,0.015,0.01...|13.0| 8.684794586646978|\n",
      "|[0.001,0.016,0.01...| 5.0| 6.515243020999224|\n",
      "|[0.001,0.016,0.01...|15.0| 10.30461875988648|\n",
      "|[0.001,0.016,0.04...| 8.0| 6.867391397816817|\n",
      "|[0.001,0.017,0.00...|15.0| 15.43880488371479|\n",
      "+--------------------+----+------------------+\n",
      "only showing top 20 rows\n",
      "\n"
     ]
    }
   ],
   "source": [
    "prediction_rf.show()"
   ]
  },
  {
   "cell_type": "code",
   "execution_count": 88,
   "metadata": {},
   "outputs": [],
   "source": [
    "import matplotlib.pyplot as plt\n",
    "evaluator = RegressionEvaluator(labelCol=\"PM25\", predictionCol=\"prediction\", metricName=\"rmse\")"
   ]
  },
  {
   "cell_type": "code",
   "execution_count": 89,
   "metadata": {},
   "outputs": [],
   "source": [
    "rmse = evaluator.evaluate(prediction_rf)"
   ]
  },
  {
   "cell_type": "code",
   "execution_count": 91,
   "metadata": {},
   "outputs": [],
   "source": [
    "rfPred = model_rf.transform(final_data)"
   ]
  },
  {
   "cell_type": "code",
   "execution_count": 92,
   "metadata": {},
   "outputs": [],
   "source": [
    "rfResult = rfPred.toPandas()"
   ]
  },
  {
   "cell_type": "code",
   "execution_count": 95,
   "metadata": {},
   "outputs": [
    {
     "data": {
      "image/png": "[encoded data removed]",
      "text/plain": [
       "<Figure size 432x288 with 1 Axes>"
      ]
     },
     "metadata": {},
     "output_type": "display_data"
    }
   ],
   "source": [
    "plt.plot(rfResult.PM25, rfResult.prediction, 'bo')\n",
    "plt.xlabel('PM2.5')\n",
    "plt.ylabel('Prediction')\n",
    "plt.suptitle(\"Model Performance RMSE: %f\" % rmse)\n",
    "plt.show()"
   ]
  },
  {
   "cell_type": "code",
   "execution_count": 98,
   "metadata": {},
   "outputs": [
    {
     "data": {
      "text/plain": [
       "SparseVector(6, {0: 0.0318, 1: 0.0683, 2: 0.0241, 3: 0.2669, 4: 0.5803, 5: 0.0285})"
      ]
     },
     "execution_count": 98,
     "metadata": {},
     "output_type": "execute_result"
    }
   ],
   "source": [
    "model_rf.featureImportances"
   ]
  },
  {
   "cell_type": "code",
   "execution_count": 101,
   "metadata": {},
   "outputs": [],
   "source": [
    "importances=model_rf.featureImportances"
   ]
  },
  {
   "cell_type": "code",
   "execution_count": 104,
   "metadata": {},
   "outputs": [],
   "source": [
    "x_values = list(range(len(importances)))\n",
    "feature_list = [\"SO2\", \"NO2\",\"O3\",\"CO\",\"PM10\",\"diff\"]"
   ]
  },
  {
   "cell_type": "code",
   "execution_count": 105,
   "metadata": {},
   "outputs": [
    {
     "data": {
      "text/plain": [
       "Text(0.5,1,'Feature Importances')"
      ]
     },
     "execution_count": 105,
     "metadata": {},
     "output_type": "execute_result"
    },
    {
     "data": {
      "image/png": "[encoded data removed]",
      "text/plain": [
       "<Figure size 432x288 with 1 Axes>"
      ]
     },
     "metadata": {},
     "output_type": "display_data"
    }
   ],
   "source": [
    "plt.bar(x_values, importances, orientation = 'vertical')\n",
    "plt.xticks(x_values, feature_list, rotation=40)\n",
    "plt.ylabel('Importance')\n",
    "plt.xlabel('Feature')\n",
    "plt.title('Feature Importances')"
   ]
  },
  {
   "cell_type": "code",
   "execution_count": null,
   "metadata": {},
   "outputs": [],
   "source": []
  },
  {
   "cell_type": "code",
   "execution_count": null,
   "metadata": {},
   "outputs": [],
   "source": []
  }
 ],
 "metadata": {
  "kernelspec": {
   "display_name": "Python 3",
   "language": "python",
   "name": "python3"
  },
  "language_info": {
   "codemirror_mode": {
    "name": "ipython",
    "version": 3
   },
   "file_extension": ".py",
   "mimetype": "text/x-python",
   "name": "python",
   "nbconvert_exporter": "python",
   "pygments_lexer": "ipython3",
   "version": "3.5.2"
  }
 },
 "nbformat": 4,
 "nbformat_minor": 2
}
